{
 "cells": [
  {
   "cell_type": "code",
   "execution_count": 2,
   "metadata": {},
   "outputs": [],
   "source": [
    "from surprise import Dataset, Reader\n",
    "from surprise import dump\n",
    "import random\n",
    "import pandas as pd\n",
    "import matplotlib.pyplot as plt\n",
    "import numpy as np\n",
    "from surprise import accuracy, Dataset, SVD, KNNBasic, KNNWithMeans, KNNWithZScore,Prediction,SlopeOne\n",
    "from surprise.model_selection import GridSearchCV\n",
    "from surprise import Prediction\n",
    "from collections import defaultdict\n",
    "from sklearn.linear_model import LinearRegression\n",
    "import time"
   ]
  },
  {
   "cell_type": "code",
   "execution_count": 3,
   "metadata": {},
   "outputs": [],
   "source": [
    "svd=dump.load('modelli_Allenati/SVD')[1]\n",
    "knnB_user=dump.load('modelli_Allenati/KnnBase_u')[1]\n",
    "knnB_item=dump.load('modelli_Allenati/KnnBase_i')[1]\n",
    "knnM_user=dump.load('modelli_Allenati/algo_KnnMeans_u')[1]\n",
    "knnM_item=dump.load('modelli_Allenati/algo_KnnMeans_i')[1]\n",
    "knnB_ibrido=dump.load('modelli_Allenati/algo_KnnBase_ibrido')[1]\n",
    "knnM_ibrido=dump.load('modelli_Allenati/algo_KnnMeans_ibrido')[1]\n",
    "slope=dump.load('modelli_Allenati/slopeOne')[1]"
   ]
  },
  {
   "cell_type": "code",
   "execution_count": 4,
   "metadata": {},
   "outputs": [],
   "source": [
    "#prendo i dati\n",
    "data = Dataset.load_builtin(\"ml-1m\")\n",
    "# Than predict ratings for all pairs (u, i) that are NOT in the training set.\n",
    "trainset = data.build_full_trainset()\n",
    "testset = trainset.build_anti_testset()"
   ]
  },
  {
   "cell_type": "code",
   "execution_count": 5,
   "metadata": {},
   "outputs": [],
   "source": [
    "#leggo i dataset contenenti i film con relativi id,nomi e generi\n",
    "movies_df = pd.read_csv('dataset/ml-1m/movies.dat',\n",
    "                        delimiter='::', engine= 'python', header=None,\n",
    "                        names=['movie_id','movie_name', 'genre'], encoding='latin-1')\n",
    "movies_df.head()\n",
    "\n",
    "#creo un dizionario che collega gli id dei film ai relativi titoli\n",
    "\n",
    "idToName = movies_df.set_index('movie_id').transpose().to_dict(orient='dict')"
   ]
  },
  {
   "cell_type": "code",
   "execution_count": 6,
   "metadata": {},
   "outputs": [],
   "source": [
    "def get_top_n(predictions, n=10):\n",
    "    \"\"\"Return the top-N recommendation for each user from a set of predictions.\n",
    "\n",
    "    Args:\n",
    "        predictions(list of Prediction objects): The list of predictions, as\n",
    "            returned by the test method of an algorithm.\n",
    "        n(int): The number of recommendation to output for each user. Default\n",
    "            is 10.\n",
    "\n",
    "    Returns:\n",
    "    A dict where keys are user (raw) ids and values are lists of tuples:\n",
    "        [(raw item id, rating estimation), ...] of size n.\n",
    "    \"\"\"\n",
    "\n",
    "    # First map the predictions to each user.\n",
    "    top_n = defaultdict(list)\n",
    "    for uid, iid, true_r, est, _ in predictions:\n",
    "        top_n[uid].append((iid, est))\n",
    "\n",
    "    # Then sort the predictions for each user and retrieve the k highest ones.\n",
    "    for uid, user_ratings in top_n.items():\n",
    "        user_ratings.sort(key=lambda x: x[1], reverse=True)\n",
    "        top_n[uid] = user_ratings[:n]\n",
    "\n",
    "    return top_n"
   ]
  },
  {
   "cell_type": "code",
   "execution_count": 7,
   "metadata": {},
   "outputs": [],
   "source": [
    "#stampa la lista dei film consigliati\n",
    "def mostraListaConsigliati(idUtente,top,idToName):\n",
    "    \"\"\"prints the list top-N recommendation for a user from a set of predictions.\n",
    "\n",
    "    Args:\n",
    "        idUtente(string): the id of the user.\n",
    "        n(dict): dict where keys are user (raw) ids and values are lists of tuples:\n",
    "        [(raw item id, rating estimation), ...] of size n.\n",
    "        idToName: dict where keys are movie (raw) ids and values are the movies name\n",
    "\n",
    "    Returns:\n",
    "        Nothing\n",
    "    \"\"\"\n",
    "    i=1\n",
    "    for x in top[idUtente]:\n",
    "        print(i,' Titolo:', idToName.get(int(x[0]))[\"movie_name\"], 'ratingStimato', x[1])\n",
    "        i=i+1"
   ]
  },
  {
   "cell_type": "code",
   "execution_count": 8,
   "metadata": {},
   "outputs": [],
   "source": [
    "#funzione che riporta le predizioni del modello ibrido nello stesso formato degli altri\n",
    "def predictIbrido(algo_ibrido,algo_user,algo_item,set):\n",
    "     \"\"\"returns the predictions for thy hybrid model based on those\n",
    "        made by the user-based and item-based models.\n",
    "\n",
    "    Args:\n",
    "        algo_KnnBase_ibrido(string): the trained hybrid model to use.\n",
    "        algo_user: the trained model for user-based predictions to use.\n",
    "        algo_item: the trained model for user-based predictions to use.\n",
    "        set: the set of ratings to predict\n",
    "\n",
    "    Returns:\n",
    "        list of Prediction objects\n",
    "    \"\"\"\n",
    "     predictions1 = algo_user.test(set)\n",
    "     predictions2 = algo_item.test(set)\n",
    "     X=[]\n",
    "     y=[]\n",
    "     for i in range(len(predictions1)):\n",
    "        X.append([predictions1[i][3],predictions2[i][3]])\n",
    "        y.append(predictions1[i][2])\n",
    "    \n",
    "     algo_ibrido.score(X, y)\n",
    "     predictionsIbride=algo_ibrido.predict(X)\n",
    "     predFinali=[]\n",
    "     for i in range(len(predictions1)):\n",
    "        predFinali.append(Prediction(predictions1[i].uid, predictions1[i].iid, predictions1[i].r_ui, predictionsIbride[i], predictions1[i].details))\n",
    "     return predFinali\n",
    "\n",
    "#funzione modificata in cui le predizioni per gli user-based e itembased sono gia state calcolate\n",
    "def predictIbrido2(algo_ibrido,pred_user,pred_item,set):\n",
    "     \"\"\"returns the predictions for thy hybrid model based on those\n",
    "        made by the user-based and item-based models.\n",
    "\n",
    "    Args:\n",
    "        algo_KnnBase_ibrido(string): the trained hybrid model to use.\n",
    "        algo_user: the trained model for user-based predictions to use.\n",
    "        algo_item: the trained model for user-based predictions to use.\n",
    "        set: the set of ratings to predict\n",
    "\n",
    "    Returns:\n",
    "        list of Prediction objects\n",
    "    \"\"\"\n",
    "     predictions1 = pred_user\n",
    "     predictions2 = pred_item\n",
    "     X=[]\n",
    "     y=[]\n",
    "     for i in range(len(predictions1)):\n",
    "        X.append([predictions1[i][3],predictions2[i][3]])\n",
    "    \n",
    "     predictionsIbride=algo_ibrido.predict(X)\n",
    "     predFinali=[]\n",
    "     for i in range(len(predictions1)):\n",
    "        predFinali.append(Prediction(predictions1[i].uid, predictions1[i].iid, predictions1[i].r_ui, predictionsIbride[i], predictions1[i].details))\n",
    "     return predFinali"
   ]
  },
  {
   "cell_type": "code",
   "execution_count": 9,
   "metadata": {},
   "outputs": [],
   "source": [
    "#dizionario dei tempi di predizione impiegati da tutti i modelli\n",
    "tempi={}"
   ]
  },
  {
   "cell_type": "code",
   "execution_count": 9,
   "metadata": {},
   "outputs": [],
   "source": [
    "\n",
    "#calcolo le predizioni usando svd per tutte le coppie (u,i) per cui non esiste rating e verifico quanto tempo impiega il sistema\n",
    "start_time = time.time()\n",
    "predSvd=svd.test(testset)\n",
    "tempi[\"svd\"]=time.time()-start_time\n"
   ]
  },
  {
   "cell_type": "code",
   "execution_count": 11,
   "metadata": {},
   "outputs": [
    {
     "name": "stdout",
     "output_type": "stream",
     "text": [
      "1  Titolo: Sanjuro (1962) ratingStimato 4.807156753199105\n",
      "2  Titolo: Children of Heaven, The (Bacheha-Ye Aseman) (1997) ratingStimato 4.767202960177623\n",
      "3  Titolo: Shawshank Redemption, The (1994) ratingStimato 4.7195965288082515\n",
      "4  Titolo: Rear Window (1954) ratingStimato 4.710407731067662\n",
      "5  Titolo: It Happened One Night (1934) ratingStimato 4.621547667312651\n",
      "6  Titolo: It's a Wonderful Life (1946) ratingStimato 4.612066166362609\n",
      "7  Titolo: Apple, The (Sib) (1998) ratingStimato 4.607319943891387\n",
      "8  Titolo: Double Indemnity (1944) ratingStimato 4.597454302028744\n",
      "9  Titolo: Great Escape, The (1963) ratingStimato 4.591395742157781\n",
      "10  Titolo: Raiders of the Lost Ark (1981) ratingStimato 4.574652225138766\n"
     ]
    }
   ],
   "source": [
    "consigliSVD=get_top_n(predSvd,10)\n",
    "mostraListaConsigliati(\"1\",consigliSVD,idToName)"
   ]
  },
  {
   "cell_type": "code",
   "execution_count": 12,
   "metadata": {},
   "outputs": [],
   "source": [
    "#calcolo le predizioni usando SlopeOne per tutte le coppie (u,i) per cui non esiste rating e verifico quanto tempo impiega il sistema\n",
    "start_time = time.time()\n",
    "predSlope=slope.test(testset)\n",
    "tempi[\"SlopeOne\"]=time.time()-start_time\n"
   ]
  },
  {
   "cell_type": "code",
   "execution_count": 18,
   "metadata": {},
   "outputs": [
    {
     "name": "stdout",
     "output_type": "stream",
     "text": [
      "1  Titolo: For All Mankind (1989) ratingStimato 5\n",
      "2  Titolo: Gate of Heavenly Peace, The (1995) ratingStimato 5\n",
      "3  Titolo: I Am Cuba (Soy Cuba/Ya Kuba) (1964) ratingStimato 5\n",
      "4  Titolo: Hour of the Pig, The (1993) ratingStimato 5\n",
      "5  Titolo: Soft Fruit (1999) ratingStimato 5\n",
      "6  Titolo: Institute Benjamenta, or This Dream People Call Human Life (1995) ratingStimato 5\n",
      "7  Titolo: Lamerica (1994) ratingStimato 5\n",
      "8  Titolo: Paralyzing Fear: The Story of Polio in America, A (1998) ratingStimato 5\n",
      "9  Titolo: Message to Love: The Isle of Wight Festival (1996) ratingStimato 5\n",
      "10  Titolo: Mamma Roma (1962) ratingStimato 5\n"
     ]
    }
   ],
   "source": [
    "consigliSlope=get_top_n(predSlope,10)\n",
    "mostraListaConsigliati(\"1\",consigliSlope,idToName)"
   ]
  },
  {
   "cell_type": "code",
   "execution_count": 15,
   "metadata": {},
   "outputs": [],
   "source": [
    "#calcolo le predizioni usando knn base user-based per tutte le coppie (u,i) per cui non esiste rating e verifico quanto tempo impiega il sistema\n",
    "start_time = time.time()\n",
    "predKnnBu=knnB_user.test(testset)\n",
    "tempi[\"KnnBaseUser\"]=time.time()-start_time\n"
   ]
  },
  {
   "cell_type": "code",
   "execution_count": 19,
   "metadata": {},
   "outputs": [
    {
     "name": "stdout",
     "output_type": "stream",
     "text": [
      "1  Titolo: Gate of Heavenly Peace, The (1995) ratingStimato 5\n",
      "2  Titolo: Seven Chances (1925) ratingStimato 5\n",
      "3  Titolo: Vampyros Lesbos (Las Vampiras) (1970) ratingStimato 5\n",
      "4  Titolo: Paralyzing Fear: The Story of Polio in America, A (1998) ratingStimato 5\n",
      "5  Titolo: Follow the Bitch (1998) ratingStimato 5\n",
      "6  Titolo: Smashing Time (1967) ratingStimato 5\n",
      "7  Titolo: Ulysses (Ulisse) (1954) ratingStimato 5\n",
      "8  Titolo: Song of Freedom (1936) ratingStimato 5\n",
      "9  Titolo: Modulations (1998) ratingStimato 5\n",
      "10  Titolo: One Little Indian (1973) ratingStimato 5\n"
     ]
    }
   ],
   "source": [
    "consigliKnnBu=get_top_n(predKnnBu,10)\n",
    "mostraListaConsigliati(\"1\",consigliKnnBu,idToName)"
   ]
  },
  {
   "cell_type": "code",
   "execution_count": 20,
   "metadata": {},
   "outputs": [],
   "source": [
    "#calcolo le predizioni usando knn base item-based per tutte le coppie (u,i) per cui non esiste rating e verifico quanto tempo impiega il sistema\n",
    "start_time = time.time()\n",
    "predKnnBi=knnB_item.test(testset)\n",
    "tempi[\"KnnBaseitem\"]=time.time()-start_time"
   ]
  },
  {
   "cell_type": "code",
   "execution_count": 22,
   "metadata": {},
   "outputs": [
    {
     "name": "stdout",
     "output_type": "stream",
     "text": [
      "1  Titolo: Loves of Carmen, The (1948) ratingStimato 5\n",
      "2  Titolo: Smoking/No Smoking (1993) ratingStimato 5\n",
      "3  Titolo: Low Life, The (1994) ratingStimato 4.949238578680203\n",
      "4  Titolo: Promise, The (Versprechen, Das) (1994) ratingStimato 4.909090909090909\n",
      "5  Titolo: Jar, The (Khomreh) (1992) ratingStimato 4.6875\n",
      "6  Titolo: Modulations (1998) ratingStimato 4.6717892425905605\n",
      "7  Titolo: Back Stage (2000) ratingStimato 4.666666666666667\n",
      "8  Titolo: White Boys (1999) ratingStimato 4.666666666666667\n",
      "9  Titolo: Venice/Venice (1992) ratingStimato 4.602564102564104\n",
      "10  Titolo: Waltzes from Vienna (1933) ratingStimato 4.579227696404794\n"
     ]
    }
   ],
   "source": [
    "consigliKnnBi=get_top_n(predKnnBi,10)\n",
    "mostraListaConsigliati(\"1\",consigliKnnBi,idToName)"
   ]
  },
  {
   "cell_type": "code",
   "execution_count": 10,
   "metadata": {},
   "outputs": [],
   "source": [
    "#calcolo le predizioni usando knn Means user-based per tutte le coppie (u,i) per cui non esiste rating e verifico quanto tempo impiega il sistema\n",
    "start_time = time.time()\n",
    "predKnnMu=knnM_user.test(testset)\n",
    "tempi[\"KnnMeansUser\"]=time.time()-start_time"
   ]
  },
  {
   "cell_type": "code",
   "execution_count": 14,
   "metadata": {},
   "outputs": [
    {
     "name": "stdout",
     "output_type": "stream",
     "text": [
      "1  Titolo: Silence of the Lambs, The (1991) ratingStimato 5\n",
      "2  Titolo: Shawshank Redemption, The (1994) ratingStimato 5\n",
      "3  Titolo: Seven (Se7en) (1995) ratingStimato 5\n",
      "4  Titolo: For All Mankind (1989) ratingStimato 5\n",
      "5  Titolo: Chushingura (1962) ratingStimato 5\n",
      "6  Titolo: Gate of Heavenly Peace, The (1995) ratingStimato 5\n",
      "7  Titolo: Sanjuro (1962) ratingStimato 5\n",
      "8  Titolo: I Am Cuba (Soy Cuba/Ya Kuba) (1964) ratingStimato 5\n",
      "9  Titolo: Man of the Century (1999) ratingStimato 5\n",
      "10  Titolo: Hour of the Pig, The (1993) ratingStimato 5\n"
     ]
    }
   ],
   "source": [
    "consigliKnnMu=get_top_n(predKnnMu,10)\n",
    "mostraListaConsigliati(\"1\",consigliKnnMu,idToName)"
   ]
  },
  {
   "cell_type": "code",
   "execution_count": 15,
   "metadata": {},
   "outputs": [],
   "source": [
    "#calcolo le predizioni usando knn Means item-based per tutte le coppie (u,i) per cui non esiste rating e verifico quanto tempo impiega il sistema\n",
    "start_time = time.time()\n",
    "predKnnMi=knnM_item.test(testset)\n",
    "tempi[\"KnnMeansItem\"]=time.time()-start_time"
   ]
  },
  {
   "cell_type": "code",
   "execution_count": 17,
   "metadata": {},
   "outputs": [
    {
     "name": "stdout",
     "output_type": "stream",
     "text": [
      "1  Titolo: Baby, The (1973) ratingStimato 5\n",
      "2  Titolo: Seven Chances (1925) ratingStimato 5\n",
      "3  Titolo: Apple, The (Sib) (1998) ratingStimato 5\n",
      "4  Titolo: Paralyzing Fear: The Story of Polio in America, A (1998) ratingStimato 5\n",
      "5  Titolo: Follow the Bitch (1998) ratingStimato 5\n",
      "6  Titolo: Smashing Time (1967) ratingStimato 5\n",
      "7  Titolo: Song of Freedom (1936) ratingStimato 5\n",
      "8  Titolo: Modulations (1998) ratingStimato 5\n",
      "9  Titolo: Firelight (1997) ratingStimato 4.994799778656341\n",
      "10  Titolo: One Little Indian (1973) ratingStimato 4.987127623907103\n"
     ]
    }
   ],
   "source": [
    "consigliKnnMi=get_top_n(predKnnMi,10)\n",
    "mostraListaConsigliati(\"1\",consigliKnnMi,idToName)"
   ]
  },
  {
   "cell_type": "code",
   "execution_count": null,
   "metadata": {},
   "outputs": [],
   "source": [
    "#calcolo le predizioni usando knn base ibrido per tutte le coppie (u,i) per cui non esiste rating e verifico quanto tempo impiega il sistema\n",
    "start_time = time.time()\n",
    "predKnnBibrido=predictIbrido2(knnB_ibrido,predKnnBu,predKnnBi,testset)\n",
    "tempi[\"KnnBaseIbrido\"]=time.time()-start_time"
   ]
  },
  {
   "cell_type": "code",
   "execution_count": null,
   "metadata": {},
   "outputs": [],
   "source": [
    "consigliKnnBibrido=get_top_n(predKnnBibrido,10)\n",
    "mostraListaConsigliati(\"1\",consigliKnnBibrido,idToName)"
   ]
  },
  {
   "cell_type": "code",
   "execution_count": 18,
   "metadata": {},
   "outputs": [],
   "source": [
    "#calcolo le predizioni usando knn Means ibrido per tutte le coppie (u,i) per cui non esiste rating e verifico quanto tempo impiega il sistema\n",
    "start_time = time.time()\n",
    "predKnnMibrido=predictIbrido2(knnM_ibrido,predKnnMu,predKnnMi,testset)\n",
    "tempi[\"KnnMeansIbrido\"]=time.time()-start_time"
   ]
  },
  {
   "cell_type": "code",
   "execution_count": 35,
   "metadata": {},
   "outputs": [
    {
     "name": "stdout",
     "output_type": "stream",
     "text": [
      "1  Titolo: Seven Chances (1925) ratingStimato 5.299113869856971\n",
      "2  Titolo: Apple, The (Sib) (1998) ratingStimato 5.299113869856971\n",
      "3  Titolo: Paralyzing Fear: The Story of Polio in America, A (1998) ratingStimato 5.299113869856971\n",
      "4  Titolo: Follow the Bitch (1998) ratingStimato 5.299113869856971\n",
      "5  Titolo: Smashing Time (1967) ratingStimato 5.299113869856971\n",
      "6  Titolo: Song of Freedom (1936) ratingStimato 5.299113869856971\n",
      "7  Titolo: Modulations (1998) ratingStimato 5.299113869856971\n",
      "8  Titolo: Firelight (1997) ratingStimato 5.296968690134397\n",
      "9  Titolo: One Little Indian (1973) ratingStimato 5.293803795852238\n",
      "10  Titolo: Gate of Heavenly Peace, The (1995) ratingStimato 5.286083419439313\n"
     ]
    }
   ],
   "source": [
    "consigliKnnMibrido=get_top_n(predKnnMibrido,10)\n",
    "mostraListaConsigliati(\"1\",consigliKnnMibrido,idToName)"
   ]
  },
  {
   "cell_type": "code",
   "execution_count": 27,
   "metadata": {},
   "outputs": [
    {
     "data": {
      "text/plain": [
       "{'svd': 118.53236961364746,\n",
       " 'SlopeOne': 1119.0508766174316,\n",
       " 'KnnBaseUser': 2284.8402156829834,\n",
       " 'KnnBaseitem': 1843.184753894806,\n",
       " 'KnnMeansUser': 2166.1079556941986,\n",
       " 'KnnMeansItem': 1720.1373143196106,\n",
       " 'KnnMeansIbrido': 3977.09072971344,\n",
       " 'KnnBaseIbrido': 4218.87042927742}"
      ]
     },
     "execution_count": 27,
     "metadata": {},
     "output_type": "execute_result"
    }
   ],
   "source": [
    "tempi"
   ]
  },
  {
   "cell_type": "code",
   "execution_count": 34,
   "metadata": {},
   "outputs": [
    {
     "data": {
      "image/png": "[encoded data removed]",
      "text/plain": [
       "<Figure size 1500x600 with 1 Axes>"
      ]
     },
     "metadata": {},
     "output_type": "display_data"
    }
   ],
   "source": [
    "plt.figure(figsize=(15,6))\n",
    "plt.title('Tempo di Predizione modelli')\n",
    "plt.bar(tempi.keys(),tempi.values(),width=0.5)\n",
    "plt.ylabel('Time(s)')\n",
    "plt.savefig('img\\Prediction_time.jpg')"
   ]
  },
  {
   "cell_type": "code",
   "execution_count": null,
   "metadata": {},
   "outputs": [],
   "source": []
  }
 ],
 "metadata": {
  "kernelspec": {
   "display_name": "python3_11_7_uniroma3",
   "language": "python",
   "name": "python3"
  },
  "language_info": {
   "codemirror_mode": {
    "name": "ipython",
    "version": 3
   },
   "file_extension": ".py",
   "mimetype": "text/x-python",
   "name": "python",
   "nbconvert_exporter": "python",
   "pygments_lexer": "ipython3",
   "version": "3.11.8"
  }
 },
 "nbformat": 4,
 "nbformat_minor": 2
}
